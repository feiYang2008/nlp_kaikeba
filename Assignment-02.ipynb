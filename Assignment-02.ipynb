{
 "cells": [
  {
   "cell_type": "markdown",
   "metadata": {},
   "source": [
    "## Assignments for Week-02"
   ]
  },
  {
   "cell_type": "markdown",
   "metadata": {},
   "source": [
    "In this course, we learnt what's the search problem and what's the machine leanring. In this assignment, we need you do some more practice."
   ]
  },
  {
   "cell_type": "markdown",
   "metadata": {},
   "source": [
    "### 1. Re-code the house price machine learning\n",
    "\n",
    "###### 1. Random Choose Method to get optimal *k* and *b*\n",
    "###### 2.Supervised Direction to get optimal *k* and *b*\n",
    "###### 3.Gradient Descent to get optimal *k* and *b*\n",
    "###### 4. Try different Loss function and learning rate. \n",
    "\n",
    "For example, you can change the loss function: $Loss = \\frac{1}{n} sum({y_i - \\hat{y_i}})^2$ to $Loss = \\frac{1}{n} sum(|{y_i - \\hat{y_i}}|)$\n",
    "\n",
    "And you can change the learning rate and observe the performance."
   ]
  },
  {
   "cell_type": "markdown",
   "metadata": {},
   "source": [
    "![](https://timgsa.baidu.com/timg?image&quality=80&size=b9999_10000&sec=1562414412237&di=8377c38d7b50c6f8d45b92ccc78dc1e7&imgtype=0&src=http%3A%2F%2Fmmbiz.qpic.cn%2Fmmbiz_jpg%2FlSyiavfm6wPgQDuDYa42IMgSkLOcPJU91RbkMibGy7VHLrhhNVLibTYk1iaLcmXKTdHc4icTDVia59QFXwqpW8cLflaw%2F640%3Fwx_fmt%3Djpeg)"
   ]
  },
  {
   "cell_type": "markdown",
   "metadata": {},
   "source": [
    "## 2. Answer following questions:\n",
    "\n",
    "\n",
    "###### 1. Why do we need machine learning methods instead of creating a complicated formula?\n"
   ]
  },
  {
   "cell_type": "markdown",
   "metadata": {},
   "source": [
    "Ans:1.大部分数据的formula是很难想到的，有的根本就没有能合适表达的formula。2.当数据量足够大时，machine learning的方法有时能得到比较理想的结果的。"
   ]
  },
  {
   "cell_type": "markdown",
   "metadata": {},
   "source": [
    "###### 2.  Wha't's the disadvantages of `the 1st Random Choosen` methods in our course? "
   ]
  },
  {
   "cell_type": "markdown",
   "metadata": {},
   "source": [
    "Ans:随机搜索效率太低了，还不一定能找到最优的参数。"
   ]
  },
  {
   "cell_type": "markdown",
   "metadata": {},
   "source": [
    "###### 3. Is the `2nd method supervised direction` better than 1st one?  What's the disadvantages of `the 2nd supversied directin` method? "
   ]
  },
  {
   "cell_type": "markdown",
   "metadata": {},
   "source": [
    "Ans:是的。搜索空间太大，搜索效率太低了，如果变量个数很多的话，每次寻找Loss下降最多的方向都需要指数级的复杂度。"
   ]
  },
  {
   "cell_type": "markdown",
   "metadata": {},
   "source": [
    "###### 4. Why do we use `Derivative / Gredient` to fit a target function? "
   ]
  },
  {
   "cell_type": "markdown",
   "metadata": {},
   "source": [
    "Ans:导数(梯度)是函数值上升(下降)最快的方向，沿着导数(梯度)寻找loss最小的参数值效率最高。"
   ]
  },
  {
   "cell_type": "markdown",
   "metadata": {},
   "source": [
    "###### 5. In the words 'Gredient Descent', what's the `Gredient` and what's the `Descent`?"
   ]
  },
  {
   "cell_type": "markdown",
   "metadata": {},
   "source": [
    "Ans:gredient是函数值上升最快的方向，descent是沿梯度反方向，这样函数值下降最快。"
   ]
  },
  {
   "cell_type": "markdown",
   "metadata": {},
   "source": [
    "###### 6. What's the advantages of `the 3rd gradient descent method` compared to the previous methods?"
   ]
  },
  {
   "cell_type": "markdown",
   "metadata": {},
   "source": [
    "Ans:搜索效率高。"
   ]
  },
  {
   "cell_type": "markdown",
   "metadata": {},
   "source": [
    "###### 7. Using the simple words to describe: What's the machine leanring."
   ]
  },
  {
   "cell_type": "markdown",
   "metadata": {},
   "source": [
    "Ans:从大量数据中拟合给定自变量x和y之间关系的方法。"
   ]
  },
  {
   "cell_type": "markdown",
   "metadata": {},
   "source": [
    "## 3. Finish the search problem"
   ]
  },
  {
   "cell_type": "markdown",
   "metadata": {},
   "source": [
    "Please using the search policy to implement an agent. This agent receives two input, one is @param start station and the other is @param destination. Your agent should give the optimal route based on Beijing Subway system. "
   ]
  },
  {
   "cell_type": "markdown",
   "metadata": {},
   "source": [
    "> Deadline: 2019-July-13\n",
    "\n",
    ">Submit: Submit the source code and result to github. \n",
    "\n"
   ]
  },
  {
   "cell_type": "markdown",
   "metadata": {},
   "source": [
    "![](https://timgsa.baidu.com/timg?image&quality=80&size=b9999_10000&sec=1562414356407&di=b57814aafd215bb8b8d9d8cd37c573d6&imgtype=0&src=http%3A%2F%2Fcli.clewm.net%2Ffile%2F2015%2F03%2F24%2F174ed60082b8422ac0636cfd3efb9e7f.jpg)"
   ]
  },
  {
   "cell_type": "markdown",
   "metadata": {},
   "source": [
    "#### Dataflow: "
   ]
  },
  {
   "cell_type": "markdown",
   "metadata": {},
   "source": [
    "##### 1.\tGet data from web page.\n",
    "\n",
    "> a.\tGet web page source from: https://baike.baidu.com/item/%E5%8C%97%E4%BA%AC%E5%9C%B0%E9%93%81/408485\n",
    "\n",
    "> b.\tYou may need @package **requests**[https://2.python-requests.org/en/master/] page to get the response via url\n",
    "\n",
    "> c.\tYou may need save the page source to file system.\n",
    "\n",
    "> d.\tThe target of this step is to get station information of all the subway lines;\n",
    "\n",
    "> e.\tYou may need install @package beautiful soup[https://www.crummy.com/software/BeautifulSoup/bs4/doc/]  to get the url information, or just use > Regular Expression to get the url.  Our recommendation is that using the Regular Expression and BeautiflSoup both. \n",
    "\n",
    "> f.\tYou may need BFS to get all the related page url from one url. \n",
    "Question: Why do we use BFS to traverse web page (or someone said, build a web spider)?  Can DFS do this job? which is better? "
   ]
  },
  {
   "cell_type": "markdown",
   "metadata": {},
   "source": [
    "##### 2.\tPreprocessing data from page source.\n",
    "\n",
    "> a.\tBased on the page source gotten from url. You may need some more preprocessing of the page. \n",
    "\n",
    "> b.\tthe Regular Expression you may need to process the text information.\n",
    "\n",
    "> c.\tYou may need @package networkx, @package matplotlib to visualize data. \n",
    "\n",
    "> d.\tYou should build a dictionary or graph which could represent the connection information of Beijing subway routes. \n",
    "\n",
    "> e.\tYou may need the defaultdict, set data structures to implement this procedure. "
   ]
  },
  {
   "cell_type": "code",
   "execution_count": 1,
   "metadata": {
    "collapsed": true
   },
   "outputs": [],
   "source": [
    "from urllib import request\n",
    "import re\n",
    "import json"
   ]
  },
  {
   "cell_type": "markdown",
   "metadata": {},
   "source": [
    "获取地铁站线路及站点名称"
   ]
  },
  {
   "cell_type": "code",
   "execution_count": 2,
   "metadata": {
    "collapsed": true
   },
   "outputs": [],
   "source": [
    "# functions\n",
    "\n",
    "def fetch(url):\n",
    "    res = request.urlopen(url)\n",
    "    data = res.read().decode()\n",
    "    return data\n",
    "\n",
    "def parse_lines(data):\n",
    "    p = r\"var lines = (\\{[\\s\\S]+?\\})\"\n",
    "    lines = re.search(p, data, re.M).group(1)\n",
    "    return json.loads(lines)\n",
    "\n",
    "def parse_stations(data):\n",
    "    p = r\"var stations = (\\{[\\s\\S]+?\\})\"\n",
    "    stations = re.search(p, data).group(1)\n",
    "    return json.loads(stations)\n",
    "    pass\n",
    "\n",
    "def stations_lines():\n",
    "    url = \"http://service.shmetro.com/skin/js/pca.js\"\n",
    "    data = fetch(url)\n",
    "    lines = parse_lines(data)\n",
    "    stations = parse_stations(data)\n",
    "    for line_no, stations_nos in lines.items():\n",
    "        for indx,stat_no in enumerate(stations_nos):\n",
    "            stations_nos[indx] = stations[stat_no]\n",
    "    return lines,list(set(stations.values()))"
   ]
  },
  {
   "cell_type": "code",
   "execution_count": 3,
   "metadata": {
    "collapsed": true
   },
   "outputs": [],
   "source": [
    "lines, stations = stations_lines()"
   ]
  },
  {
   "cell_type": "code",
   "execution_count": 6,
   "metadata": {},
   "outputs": [
    {
     "data": {
      "text/plain": [
       "['莘庄',\n",
       " '外环路',\n",
       " '莲花路',\n",
       " '锦江乐园',\n",
       " '上海南站',\n",
       " '漕宝路',\n",
       " '上海体育馆',\n",
       " '徐家汇',\n",
       " '衡山路',\n",
       " '常熟路',\n",
       " '陕西南路',\n",
       " '黄陂南路',\n",
       " '人民广场',\n",
       " '新闸路',\n",
       " '汉中路',\n",
       " '上海火车站',\n",
       " '中山北路',\n",
       " '延长路',\n",
       " '上海马戏城',\n",
       " '汶水路',\n",
       " '彭浦新村',\n",
       " '共康路',\n",
       " '通河新村',\n",
       " '呼兰路',\n",
       " '共富新村',\n",
       " '宝安公路',\n",
       " '友谊西路',\n",
       " '富锦路']"
      ]
     },
     "execution_count": 6,
     "metadata": {},
     "output_type": "execute_result"
    }
   ],
   "source": [
    "lines[\"1号线\"]"
   ]
  },
  {
   "cell_type": "code",
   "execution_count": 15,
   "metadata": {},
   "outputs": [
    {
     "data": {
      "text/plain": [
       "['上海体育馆',\n",
       " '宜山路',\n",
       " '虹桥路',\n",
       " '延安西路',\n",
       " '中山公园',\n",
       " '金沙江路',\n",
       " '曹杨路',\n",
       " '镇坪路',\n",
       " '中潭路',\n",
       " '上海火车站',\n",
       " '宝山路',\n",
       " '海伦路',\n",
       " '临平路',\n",
       " '大连路',\n",
       " '杨树浦路',\n",
       " '浦东大道',\n",
       " '世纪大道',\n",
       " '浦电路',\n",
       " '蓝村路',\n",
       " '塘桥',\n",
       " '南浦大桥',\n",
       " '西藏南路',\n",
       " '鲁班路',\n",
       " '大木桥路',\n",
       " '东安路',\n",
       " '上海体育场']"
      ]
     },
     "execution_count": 15,
     "metadata": {},
     "output_type": "execute_result"
    }
   ],
   "source": [
    "lines[\"4号线\"]"
   ]
  },
  {
   "cell_type": "code",
   "execution_count": 8,
   "metadata": {
    "scrolled": false
   },
   "outputs": [
    {
     "data": {
      "text/plain": [
       "['金科路', '南浦大桥', '北洋泾路', '常熟路', '德平路', '虹梅路', '上海西站', '徐泾北城', '枫桥路', '东兰路']"
      ]
     },
     "execution_count": 8,
     "metadata": {},
     "output_type": "execute_result"
    }
   ],
   "source": [
    "stations[:10]"
   ]
  },
  {
   "cell_type": "markdown",
   "metadata": {},
   "source": [
    "获取地铁站经纬度"
   ]
  },
  {
   "cell_type": "code",
   "execution_count": 11,
   "metadata": {
    "collapsed": true
   },
   "outputs": [],
   "source": [
    "import time\n",
    "\n",
    "def stations_coor(stations):\n",
    "    my_ak = \"UDOBZ-UNI3V-4VDPG-UGRVL-VVFHH-GLFBS\"\n",
    "    tag = request.quote(\"地铁站\")\n",
    "    city = request.quote(\"上海\")\n",
    "    url = 'https://apis.map.qq.com/ws/place/v1/search?boundary=region({0},0)&keyword={1}&filter=category={2}&page_size=20&page_index=1&orderby=_distance&key=' + my_ak\n",
    "\n",
    "    coordinates = {}\n",
    "    for station_name in stations:\n",
    "        query = request.quote(station_name)\n",
    "        request_url = url.format(city, query, tag)\n",
    "        res = fetch(request_url)\n",
    "        time.sleep(0.2)\n",
    "        res_json = json.loads(res)\n",
    "        try:\n",
    "            location = res_json[\"data\"][0][\"location\"]\n",
    "            coordinates[station_name] = {\"lat\":location[\"lat\"],\"lng\":location[\"lng\"]}\n",
    "        except Exception as e:\n",
    "            print(e)\n",
    "    return coordinates"
   ]
  },
  {
   "cell_type": "code",
   "execution_count": 12,
   "metadata": {
    "collapsed": true
   },
   "outputs": [],
   "source": [
    "coordinates = stations_coor(stations)"
   ]
  },
  {
   "cell_type": "code",
   "execution_count": 13,
   "metadata": {},
   "outputs": [
    {
     "data": {
      "text/plain": [
       "{'lat': 31.111226, 'lng': 121.385377}"
      ]
     },
     "execution_count": 13,
     "metadata": {},
     "output_type": "execute_result"
    }
   ],
   "source": [
    "coordinates[\"莘庄\"]"
   ]
  },
  {
   "cell_type": "code",
   "execution_count": 155,
   "metadata": {
    "collapsed": true
   },
   "outputs": [],
   "source": [
    "# 写入文件\n",
    "\n",
    "with open(\"./lines.json\",\"w\") as f:\n",
    "    json.dump(lines,f)\n",
    "\n",
    "with open(\"./stations.json\",\"w\") as f:\n",
    "    json.dump(stations,f)\n",
    "    \n",
    "with open(\"./coordinates.json\",\"w\") as f:\n",
    "    json.dump(coordinates,f)"
   ]
  },
  {
   "cell_type": "code",
   "execution_count": 156,
   "metadata": {
    "collapsed": true
   },
   "outputs": [],
   "source": [
    "# 从文件读取\n",
    "\n",
    "with open(\"./lines.json\",\"r\") as f1,open(\"./stations.json\",\"r\") as f2, open(\"./coordinates.json\",\"r\") as f3:\n",
    "    lines = json.load(f1)\n",
    "    stations = json.load(f2)\n",
    "    coordinates = json.load(f3)"
   ]
  },
  {
   "cell_type": "code",
   "execution_count": 158,
   "metadata": {},
   "outputs": [
    {
     "data": {
      "text/plain": [
       "['莘庄',\n",
       " '外环路',\n",
       " '莲花路',\n",
       " '锦江乐园',\n",
       " '上海南站',\n",
       " '漕宝路',\n",
       " '上海体育馆',\n",
       " '徐家汇',\n",
       " '衡山路',\n",
       " '常熟路',\n",
       " '陕西南路',\n",
       " '黄陂南路',\n",
       " '人民广场',\n",
       " '新闸路',\n",
       " '汉中路',\n",
       " '上海火车站',\n",
       " '中山北路',\n",
       " '延长路',\n",
       " '上海马戏城',\n",
       " '汶水路',\n",
       " '彭浦新村',\n",
       " '共康路',\n",
       " '通河新村',\n",
       " '呼兰路',\n",
       " '共富新村',\n",
       " '宝安公路',\n",
       " '友谊西路',\n",
       " '富锦路']"
      ]
     },
     "execution_count": 158,
     "metadata": {},
     "output_type": "execute_result"
    }
   ],
   "source": [
    "lines[\"1号线\"]"
   ]
  },
  {
   "cell_type": "code",
   "execution_count": 159,
   "metadata": {},
   "outputs": [
    {
     "data": {
      "text/plain": [
       "['金科路',\n",
       " '南浦大桥',\n",
       " '北洋泾路',\n",
       " '常熟路',\n",
       " '德平路',\n",
       " '虹梅路',\n",
       " '上海西站',\n",
       " '徐泾北城',\n",
       " '枫桥路',\n",
       " '东兰路',\n",
       " '黄陂南路',\n",
       " '远东大道',\n",
       " '航头东',\n",
       " '临平路',\n",
       " '云山路',\n",
       " '金运路',\n",
       " '宝山路',\n",
       " '曲阜路',\n",
       " '御桥',\n",
       " '漕河泾开发区',\n",
       " '松江南站',\n",
       " '唐镇',\n",
       " '黄兴公园',\n",
       " '虹桥路',\n",
       " '上海游泳馆',\n",
       " '徐家汇',\n",
       " '颛桥',\n",
       " '奉贤新城',\n",
       " '虹桥1号航站楼',\n",
       " '邮电新村',\n",
       " '中山公园',\n",
       " '上海赛车场',\n",
       " '浦三路',\n",
       " '航中路',\n",
       " '老西门',\n",
       " '伊犁路',\n",
       " '联航路',\n",
       " '北蔡',\n",
       " '陆家浜路',\n",
       " '翔殷路',\n",
       " '金海路',\n",
       " '书院',\n",
       " '沈杜公路',\n",
       " '新村路',\n",
       " '漕溪路',\n",
       " '浦江镇',\n",
       " '国权路',\n",
       " '滴水湖',\n",
       " '昌平路',\n",
       " '娄山关路',\n",
       " '自然博物馆',\n",
       " '创新中路',\n",
       " '东川路',\n",
       " '隆德路',\n",
       " '殷高东路',\n",
       " '刘行',\n",
       " '商城路',\n",
       " '洲海路',\n",
       " '新场',\n",
       " '北桥',\n",
       " '华宁路',\n",
       " '杨思',\n",
       " '嘉善路',\n",
       " '博兴路',\n",
       " '蟠龙路',\n",
       " '长清路',\n",
       " '紫藤路',\n",
       " '七莘路',\n",
       " '石龙路',\n",
       " '莲溪路',\n",
       " '鹤沙航城',\n",
       " '淀山湖大道',\n",
       " '通河新村',\n",
       " '场中路',\n",
       " '上南路',\n",
       " '陆家嘴',\n",
       " '浦东大道',\n",
       " '临港大道',\n",
       " '爱国路',\n",
       " '张江高科',\n",
       " '闵瑞路',\n",
       " '蓝村路',\n",
       " '上海马戏城',\n",
       " '上海科技馆',\n",
       " '大华三路',\n",
       " '南翔',\n",
       " '浦电路',\n",
       " '申江路',\n",
       " '奉浦大道',\n",
       " '东安路',\n",
       " '中春路',\n",
       " '东明路',\n",
       " '源深体育中心',\n",
       " '凌空路',\n",
       " '曹杨路',\n",
       " '野生动物园',\n",
       " '台儿庄路',\n",
       " '中兴路',\n",
       " '殷高西路',\n",
       " '芦恒路',\n",
       " '顾戴路',\n",
       " '东宝兴路',\n",
       " '上海汽车城',\n",
       " '五角场',\n",
       " '云台路',\n",
       " '惠南',\n",
       " '行知路',\n",
       " '金桥',\n",
       " '嘉松中路',\n",
       " '七宝',\n",
       " '大柏树',\n",
       " '曲阳路',\n",
       " '中山北路',\n",
       " '广兰路',\n",
       " '淞滨路',\n",
       " '西藏北路',\n",
       " '龙华中路',\n",
       " '呼兰路',\n",
       " '虹桥2号航站楼',\n",
       " '陕西南路',\n",
       " '北新泾',\n",
       " '东昌路',\n",
       " '世博会博物馆',\n",
       " '嘉定西',\n",
       " '金沙江西路',\n",
       " '惠南东',\n",
       " '三林东',\n",
       " '四川北路',\n",
       " '共富新村',\n",
       " '宜山路',\n",
       " '洞泾',\n",
       " '江浦路',\n",
       " '淞虹路',\n",
       " '友谊路',\n",
       " '肇嘉浜路',\n",
       " '白银路',\n",
       " '五莲路',\n",
       " '九亭',\n",
       " '三鲁公路',\n",
       " '东方绿舟',\n",
       " '金京路',\n",
       " '宋园路',\n",
       " '江杨北路',\n",
       " '延吉中路',\n",
       " '华鹏路',\n",
       " '高青路',\n",
       " '剑川路',\n",
       " '塘桥',\n",
       " '打浦桥',\n",
       " '金平路',\n",
       " '萧塘',\n",
       " '耀华路',\n",
       " '泗泾',\n",
       " '三林',\n",
       " '外高桥保税区北站',\n",
       " '东方体育中心',\n",
       " '金吉路',\n",
       " '水产路',\n",
       " '国际客运中心',\n",
       " '人民广场',\n",
       " '张华浜',\n",
       " '临沂新村',\n",
       " '银都路',\n",
       " '海伦路',\n",
       " '龙华',\n",
       " '富锦路',\n",
       " '安亭',\n",
       " '康新公路',\n",
       " '共康路',\n",
       " '凌兆新村',\n",
       " '迪士尼',\n",
       " '三门路',\n",
       " '上海火车站',\n",
       " '宝安公路',\n",
       " '延安西路',\n",
       " '提篮桥',\n",
       " '云锦路',\n",
       " '醉白池',\n",
       " '华夏中路',\n",
       " '漕宝路',\n",
       " '丰庄',\n",
       " '芳甸路',\n",
       " '龙耀路',\n",
       " '祁连山路',\n",
       " '上海大学',\n",
       " '陈春路',\n",
       " '徐盈路',\n",
       " '新闸路',\n",
       " '华夏东路',\n",
       " '光明路',\n",
       " '嘉定北',\n",
       " '中华艺术宫',\n",
       " '罗南新村',\n",
       " '汉中路',\n",
       " '成山路',\n",
       " '交通大学',\n",
       " '黄兴路',\n",
       " '四平路',\n",
       " '豫园',\n",
       " '江川路',\n",
       " '祁华路',\n",
       " '西藏南路',\n",
       " '环城东路',\n",
       " '潘广路',\n",
       " '鲁班路',\n",
       " '世博大道',\n",
       " '江苏路',\n",
       " '赤峰路',\n",
       " '汶水路',\n",
       " '闵行开发区',\n",
       " '杨高北路',\n",
       " '水城路',\n",
       " '真北路',\n",
       " '虹桥火车站',\n",
       " '民生路',\n",
       " '衡山路',\n",
       " '青浦新城',\n",
       " '小南门',\n",
       " '中科路',\n",
       " '美兰湖',\n",
       " '五洲大道',\n",
       " '锦绣路',\n",
       " '鞍山新村',\n",
       " '赵巷',\n",
       " '嫩江路',\n",
       " '大场镇',\n",
       " '彭浦新村',\n",
       " '桂林公园',\n",
       " '锦江乐园',\n",
       " '东靖路',\n",
       " '后滩',\n",
       " '中潭路',\n",
       " '上海儿童医学中心',\n",
       " '马陆',\n",
       " '镇坪路',\n",
       " '龙柏新村',\n",
       " '高科西路',\n",
       " '秀沿路',\n",
       " '同济大学',\n",
       " '松江体育中心',\n",
       " '桃浦新村',\n",
       " '罗山路',\n",
       " '上海图书馆',\n",
       " '松江大学城',\n",
       " '上海体育馆',\n",
       " '延长路',\n",
       " '宝杨路',\n",
       " '佘山',\n",
       " '花木路',\n",
       " '松江新城',\n",
       " '朱家角',\n",
       " '灵岩南路',\n",
       " '大渡河路',\n",
       " '江浦公园',\n",
       " '龙阳路',\n",
       " '淮海中路',\n",
       " '武威路',\n",
       " '周浦东',\n",
       " '长江南路',\n",
       " '友谊西路',\n",
       " '西渡',\n",
       " '武宁路',\n",
       " '南京东路',\n",
       " '蓝天路',\n",
       " '昌吉东路',\n",
       " '李子园',\n",
       " '上海体育场',\n",
       " '芳华路',\n",
       " '张江路',\n",
       " '春申路',\n",
       " '汇金路',\n",
       " '天潼路',\n",
       " '大连路',\n",
       " '杨高南路',\n",
       " '东城一路',\n",
       " '桂林路',\n",
       " '顾唐路',\n",
       " '虹口足球场',\n",
       " '隆昌路',\n",
       " '宁国路',\n",
       " '曹路',\n",
       " '世纪大道',\n",
       " '学林路',\n",
       " '漕盈路',\n",
       " '淞发路',\n",
       " '威宁路',\n",
       " '大木桥路',\n",
       " '新江湾城',\n",
       " '花桥',\n",
       " '杨树浦路',\n",
       " '龙漕路',\n",
       " '莘庄',\n",
       " '龙溪路',\n",
       " '下南路',\n",
       " '顾村公园',\n",
       " '马当路',\n",
       " '徐泾东',\n",
       " '金桥路',\n",
       " '巨峰路',\n",
       " '外环路',\n",
       " '浦东国际机场',\n",
       " '南陈路',\n",
       " '合川路',\n",
       " '市光路',\n",
       " '（预留车站）',\n",
       " '川沙',\n",
       " '静安寺',\n",
       " '华夏西路',\n",
       " '江月路',\n",
       " '虹漕路',\n",
       " '南京西路',\n",
       " '上海南站',\n",
       " '嘉定新城',\n",
       " '祁连山南路',\n",
       " '江宁路',\n",
       " '杨高中路',\n",
       " '大世界',\n",
       " '星中路',\n",
       " '虹莘路',\n",
       " '浦航路',\n",
       " '航津路',\n",
       " '民雷路',\n",
       " '岚皋路',\n",
       " '文井路',\n",
       " '汇臻路',\n",
       " '世纪公园',\n",
       " '江湾镇',\n",
       " '金海湖',\n",
       " '长寿路',\n",
       " '上海动物园',\n",
       " '江湾体育场',\n",
       " '港城路',\n",
       " '新天地',\n",
       " '真如',\n",
       " '复兴岛',\n",
       " '东陆路',\n",
       " '兆丰路',\n",
       " '外高桥保税区南站',\n",
       " '海天三路',\n",
       " '莲花路',\n",
       " '上大路',\n",
       " '金沙江路',\n",
       " '望园路',\n",
       " '诸光路',\n",
       " '铁力路']"
      ]
     },
     "execution_count": 159,
     "metadata": {},
     "output_type": "execute_result"
    }
   ],
   "source": [
    "stations"
   ]
  },
  {
   "cell_type": "code",
   "execution_count": 160,
   "metadata": {},
   "outputs": [
    {
     "data": {
      "text/plain": [
       "{'lat': 31.111226, 'lng': 121.385377}"
      ]
     },
     "execution_count": 160,
     "metadata": {},
     "output_type": "execute_result"
    }
   ],
   "source": [
    "coordinates[\"莘庄\"]"
   ]
  },
  {
   "cell_type": "markdown",
   "metadata": {},
   "source": [
    "获取站点间的连接"
   ]
  },
  {
   "cell_type": "code",
   "execution_count": 16,
   "metadata": {
    "collapsed": true
   },
   "outputs": [],
   "source": [
    "from collections import defaultdict"
   ]
  },
  {
   "cell_type": "code",
   "execution_count": 45,
   "metadata": {
    "collapsed": true
   },
   "outputs": [],
   "source": [
    "def update_links(line,links,is_loop=False):\n",
    "    for index in range(len(line)):\n",
    "        if index - 1 >= 0:\n",
    "            links[line[index]].add(line[index-1])\n",
    "        if index + 1 < len(line):\n",
    "            links[line[index]].add(line[index+1])\n",
    "        if is_loop:\n",
    "            links[line[0]].add(line[-1])\n",
    "            links[line[-1]].add(line[0])\n",
    "    return"
   ]
  },
  {
   "cell_type": "code",
   "execution_count": 46,
   "metadata": {},
   "outputs": [],
   "source": [
    "def generate_links(lines):\n",
    "    links = defaultdict(set)\n",
    "    for name,line in lines.items():\n",
    "        # 4号线是环线\n",
    "        if name == \"4号线\":\n",
    "            update_links(line, links, is_loop=True)\n",
    "        else:\n",
    "            update_links(line,links)\n",
    "    return {key:list(value) for key,value in links.items()}"
   ]
  },
  {
   "cell_type": "code",
   "execution_count": 47,
   "metadata": {
    "collapsed": true
   },
   "outputs": [],
   "source": [
    "links = generate_links(lines)"
   ]
  },
  {
   "cell_type": "code",
   "execution_count": 48,
   "metadata": {},
   "outputs": [
    {
     "name": "stdout",
     "output_type": "stream",
     "text": [
      "['春申路', '外环路']\n",
      "['大世界', '南京东路', '新闸路', '南京西路', '黄陂南路', '曲阜路']\n",
      "['虹桥火车站', '蟠龙路']\n"
     ]
    }
   ],
   "source": [
    "print(links[\"莘庄\"])\n",
    "print(links[\"人民广场\"])\n",
    "print(links[\"诸光路\"])"
   ]
  },
  {
   "cell_type": "code",
   "execution_count": 28,
   "metadata": {},
   "outputs": [
    {
     "data": {
      "text/plain": [
       "{'七宝': {'lat': 31.155313, 'lng': 121.349273},\n",
       " '七莘路': {'lat': 31.13159, 'lng': 121.362393},\n",
       " '三林': {'lat': 31.143184, 'lng': 121.511512},\n",
       " '三林东': {'lat': 31.146431, 'lng': 121.52297},\n",
       " '三门路': {'lat': 31.31333, 'lng': 121.508324},\n",
       " '三鲁公路': {'lat': 31.056097, 'lng': 121.527322},\n",
       " '上南路': {'lat': 31.149055, 'lng': 121.506529},\n",
       " '上大路': {'lat': 31.315008, 'lng': 121.408634},\n",
       " '上海体育场': {'lat': 31.185568, 'lng': 121.44351},\n",
       " '上海体育馆': {'lat': 31.182422, 'lng': 121.436419},\n",
       " '上海儿童医学中心': {'lat': 31.203912, 'lng': 121.52354},\n",
       " '上海动物园': {'lat': 31.190255, 'lng': 121.368149},\n",
       " '上海南站': {'lat': 31.15477, 'lng': 121.4296},\n",
       " '上海图书馆': {'lat': 31.208057, 'lng': 121.444353},\n",
       " '上海大学': {'lat': 31.32062, 'lng': 121.389028},\n",
       " '上海汽车城': {'lat': 31.285402, 'lng': 121.180742},\n",
       " '上海游泳馆': {'lat': 31.179058, 'lng': 121.441435},\n",
       " '上海火车站': {'lat': 31.247401, 'lng': 121.455716},\n",
       " '上海科技馆': {'lat': 31.219028, 'lng': 121.544413},\n",
       " '上海西站': {'lat': 31.262685, 'lng': 121.401067},\n",
       " '上海赛车场': {'lat': 31.331894, 'lng': 121.226199},\n",
       " '上海马戏城': {'lat': 31.279561, 'lng': 121.452043},\n",
       " '下南路': {'lat': 31.179272, 'lng': 121.540283},\n",
       " '世博会博物馆': {'lat': 31.197482, 'lng': 121.481687},\n",
       " '世博大道': {'lat': 31.182925, 'lng': 121.484238},\n",
       " '世纪公园': {'lat': 31.209555, 'lng': 121.55087},\n",
       " '世纪大道': {'lat': 31.228798, 'lng': 121.527067},\n",
       " '东兰路': {'lat': 31.155851, 'lng': 121.391955},\n",
       " '东城一路': {'lat': 31.030787, 'lng': 121.532152},\n",
       " '东安路': {'lat': 31.190877, 'lng': 121.454834},\n",
       " '东宝兴路': {'lat': 31.259945, 'lng': 121.480182},\n",
       " '东川路': {'lat': 31.018117, 'lng': 121.41995},\n",
       " '东方体育中心': {'lat': 31.153316, 'lng': 121.480346},\n",
       " '东方绿舟': {'lat': 31.098529, 'lng': 121.019522},\n",
       " '东昌路': {'lat': 31.233253, 'lng': 121.515119},\n",
       " '东明路': {'lat': 31.172512, 'lng': 121.510847},\n",
       " '东陆路': {'lat': 31.282501, 'lng': 121.578978},\n",
       " '东靖路': {'lat': 31.290345, 'lng': 121.588834},\n",
       " '中兴路': {'lat': 31.253137, 'lng': 121.468925},\n",
       " '中华艺术宫': {'lat': 31.185091, 'lng': 121.493555},\n",
       " '中山公园': {'lat': 31.218457, 'lng': 121.418137},\n",
       " '中山北路': {'lat': 31.258974, 'lng': 121.459122},\n",
       " '中春路': {'lat': 31.149393, 'lng': 121.337815},\n",
       " '中潭路': {'lat': 31.254596, 'lng': 121.441048},\n",
       " '中科路': {'lat': 31.178861, 'lng': 121.602494},\n",
       " '丰庄': {'lat': 31.242677, 'lng': 121.355367},\n",
       " '临平路': {'lat': 31.260939, 'lng': 121.500688},\n",
       " '临沂新村': {'lat': 31.193209, 'lng': 121.516721},\n",
       " '临港大道': {'lat': 30.923541, 'lng': 121.910987},\n",
       " '九亭': {'lat': 31.137369, 'lng': 121.319519},\n",
       " '书院': {'lat': 30.959247, 'lng': 121.850726},\n",
       " '云台路': {'lat': 31.182134, 'lng': 121.500432},\n",
       " '云山路': {'lat': 31.250452, 'lng': 121.572867},\n",
       " '云锦路': {'lat': 31.166568, 'lng': 121.45861},\n",
       " '五洲大道': {'lat': 31.302586, 'lng': 121.589351},\n",
       " '五莲路': {'lat': 31.271915, 'lng': 121.587989},\n",
       " '五角场': {'lat': 31.298109, 'lng': 121.514651},\n",
       " '交通大学': {'lat': 31.202303, 'lng': 121.435131},\n",
       " '人民广场': {'lat': 31.232708, 'lng': 121.475537},\n",
       " '伊犁路': {'lat': 31.198845, 'lng': 121.403842},\n",
       " '佘山': {'lat': 31.104231, 'lng': 121.229752},\n",
       " '兆丰路': {'lat': 31.289501, 'lng': 121.150318},\n",
       " '光明路': {'lat': 31.296505, 'lng': 121.117332},\n",
       " '共富新村': {'lat': 31.355064, 'lng': 121.434117},\n",
       " '共康路': {'lat': 31.319099, 'lng': 121.44698},\n",
       " '凌兆新村': {'lat': 31.141062, 'lng': 121.489746},\n",
       " '凌空路': {'lat': 31.192813, 'lng': 121.723702},\n",
       " '刘行': {'lat': 31.357574, 'lng': 121.362439},\n",
       " '创新中路': {'lat': 31.213761, 'lng': 121.673729},\n",
       " '剑川路': {'lat': 31.026407, 'lng': 121.416578},\n",
       " '北新泾': {'lat': 31.216479, 'lng': 121.37405},\n",
       " '北桥': {'lat': 31.045164, 'lng': 121.409983},\n",
       " '北洋泾路': {'lat': 31.239344, 'lng': 121.552773},\n",
       " '北蔡': {'lat': 31.180145, 'lng': 121.552129},\n",
       " '华夏东路': {'lat': 31.196816, 'lng': 121.680872},\n",
       " '华夏中路': {'lat': 31.174515, 'lng': 121.581366},\n",
       " '华夏西路': {'lat': 31.149768, 'lng': 121.514316},\n",
       " '华宁路': {'lat': 31.007451, 'lng': 121.395282},\n",
       " '华鹏路': {'lat': 31.176291, 'lng': 121.526563},\n",
       " '南京东路': {'lat': 31.238133, 'lng': 121.484648},\n",
       " '南京西路': {'lat': 31.2281, 'lng': 121.459442},\n",
       " '南浦大桥': {'lat': 31.208377, 'lng': 121.499599},\n",
       " '南翔': {'lat': 31.297108, 'lng': 121.323169},\n",
       " '南陈路': {'lat': 31.321416, 'lng': 121.39867},\n",
       " '博兴路': {'lat': 31.264144, 'lng': 121.586933},\n",
       " '友谊西路': {'lat': 31.381276, 'lng': 121.427939},\n",
       " '友谊路': {'lat': 31.404052, 'lng': 121.47602},\n",
       " '台儿庄路': {'lat': 31.252991, 'lng': 121.597691},\n",
       " '合川路': {'lat': 31.166564, 'lng': 121.384776},\n",
       " '同济大学': {'lat': 31.282319, 'lng': 121.506461},\n",
       " '后滩': {'lat': 31.171808, 'lng': 121.473696},\n",
       " '周浦东': {'lat': 31.110066, 'lng': 121.606951},\n",
       " '呼兰路': {'lat': 31.33976, 'lng': 121.437691},\n",
       " '唐镇': {'lat': 31.214157, 'lng': 121.656139},\n",
       " '商城路': {'lat': 31.230362, 'lng': 121.51646},\n",
       " '嘉善路': {'lat': 31.202071, 'lng': 121.461162},\n",
       " '嘉定北': {'lat': 31.391765, 'lng': 121.237496},\n",
       " '嘉定新城': {'lat': 31.330149, 'lng': 121.254418},\n",
       " '嘉定西': {'lat': 31.377125, 'lng': 121.227902},\n",
       " '嘉松中路': {'lat': 31.163905, 'lng': 121.223792},\n",
       " '四川北路': {'lat': 31.252025, 'lng': 121.484315},\n",
       " '四平路': {'lat': 31.275116, 'lng': 121.50165},\n",
       " '国权路': {'lat': 31.289358, 'lng': 121.510175},\n",
       " '国际客运中心': {'lat': 31.250084, 'lng': 121.498159},\n",
       " '场中路': {'lat': 31.303765, 'lng': 121.413763},\n",
       " '塘桥': {'lat': 31.20964, 'lng': 121.518726},\n",
       " '复兴岛': {'lat': 31.280486, 'lng': 121.561273},\n",
       " '外环路': {'lat': 31.120955, 'lng': 121.393027},\n",
       " '外高桥保税区北站': {'lat': 31.347948, 'lng': 121.586923},\n",
       " '外高桥保税区南站': {'lat': 31.321623, 'lng': 121.60202},\n",
       " '大世界': {'lat': 31.227219, 'lng': 121.479268},\n",
       " '大华三路': {'lat': 31.273924, 'lng': 121.423055},\n",
       " '大场镇': {'lat': 31.293422, 'lng': 121.416617},\n",
       " '大木桥路': {'lat': 31.193548, 'lng': 121.464084},\n",
       " '大柏树': {'lat': 31.289546, 'lng': 121.483131},\n",
       " '大渡河路': {'lat': 31.231741, 'lng': 121.394543},\n",
       " '大连路': {'lat': 31.258226, 'lng': 121.512742},\n",
       " '天潼路': {'lat': 31.243814, 'lng': 121.482521},\n",
       " '奉浦大道': {'lat': 30.942112, 'lng': 121.449015},\n",
       " '奉贤新城': {'lat': 30.914056, 'lng': 121.496166},\n",
       " '威宁路': {'lat': 31.214789, 'lng': 121.387257},\n",
       " '娄山关路': {'lat': 31.211078, 'lng': 121.404029},\n",
       " '嫩江路': {'lat': 31.314875, 'lng': 121.532046},\n",
       " '学林路': {'lat': 31.183492, 'lng': 121.614369},\n",
       " '宁国路': {'lat': 31.268687, 'lng': 121.53254},\n",
       " '安亭': {'lat': 31.288534, 'lng': 121.162084},\n",
       " '宋园路': {'lat': 31.196574, 'lng': 121.41201},\n",
       " '宜山路': {'lat': 31.18415, 'lng': 121.427296},\n",
       " '宝安公路': {'lat': 31.369536, 'lng': 121.430978},\n",
       " '宝山路': {'lat': 31.251538, 'lng': 121.476375},\n",
       " '宝杨路': {'lat': 31.395251, 'lng': 121.479584},\n",
       " '富锦路': {'lat': 31.392208, 'lng': 121.424763},\n",
       " '小南门': {'lat': 31.216937, 'lng': 121.498455},\n",
       " '岚皋路': {'lat': 31.256229, 'lng': 121.421922},\n",
       " '川沙': {'lat': 31.186714, 'lng': 121.698062},\n",
       " '巨峰路': {'lat': 31.280766, 'lng': 121.588414},\n",
       " '市光路': {'lat': 31.322732, 'lng': 121.532007},\n",
       " '常熟路': {'lat': 31.213587, 'lng': 121.451307},\n",
       " '广兰路': {'lat': 31.211075, 'lng': 121.620976},\n",
       " '康新公路': {'lat': 31.13045, 'lng': 121.61749},\n",
       " '延吉中路': {'lat': 31.288294, 'lng': 121.53494},\n",
       " '延安西路': {'lat': 31.209603, 'lng': 121.417115},\n",
       " '延长路': {'lat': 31.27184, 'lng': 121.455405},\n",
       " '张华浜': {'lat': 31.358161, 'lng': 121.49856},\n",
       " '张江路': {'lat': 31.189089, 'lng': 121.629089},\n",
       " '张江高科': {'lat': 31.201884, 'lng': 121.587786},\n",
       " '彭浦新村': {'lat': 31.306654, 'lng': 121.448678},\n",
       " '徐家汇': {'lat': 31.191908, 'lng': 121.438209},\n",
       " '徐泾东': {'lat': 31.188391, 'lng': 121.299578},\n",
       " '徐泾北城': {'lat': 31.17534, 'lng': 121.241821},\n",
       " '徐盈路': {'lat': 31.177956, 'lng': 121.25413},\n",
       " '御桥': {'lat': 31.158131, 'lng': 121.570951},\n",
       " '德平路': {'lat': 31.245353, 'lng': 121.564161},\n",
       " '惠南': {'lat': 31.053839, 'lng': 121.761846},\n",
       " '惠南东': {'lat': 31.026427, 'lng': 121.793884},\n",
       " '成山路': {'lat': 31.170787, 'lng': 121.49622},\n",
       " '打浦桥': {'lat': 31.206287, 'lng': 121.468965},\n",
       " '提篮桥': {'lat': 31.253494, 'lng': 121.506896},\n",
       " '文井路': {'lat': 31.003536, 'lng': 121.380669},\n",
       " '新场': {'lat': 31.045503, 'lng': 121.649116},\n",
       " '新天地': {'lat': 31.216328, 'lng': 121.475238},\n",
       " '新村路': {'lat': 31.263877, 'lng': 121.42266},\n",
       " '新江湾城': {'lat': 31.32851, 'lng': 121.506983},\n",
       " '新闸路': {'lat': 31.238721, 'lng': 121.468081},\n",
       " '昌吉东路': {'lat': 31.293751, 'lng': 121.20059},\n",
       " '昌平路': {'lat': 31.233729, 'lng': 121.442584},\n",
       " '星中路': {'lat': 31.158138, 'lng': 121.369071},\n",
       " '春申路': {'lat': 31.097989, 'lng': 121.385883},\n",
       " '曲阜路': {'lat': 31.242323, 'lng': 121.471523},\n",
       " '曲阳路': {'lat': 31.276468, 'lng': 121.491084},\n",
       " '曹杨路': {'lat': 31.239163, 'lng': 121.417846},\n",
       " '曹路': {'lat': 31.271191, 'lng': 121.682864},\n",
       " '望园路': {'lat': 30.931968, 'lng': 121.483823},\n",
       " '朱家角': {'lat': 31.100514, 'lng': 121.049031},\n",
       " '李子园': {'lat': 31.268953, 'lng': 121.389964},\n",
       " '杨思': {'lat': 31.160989, 'lng': 121.493593},\n",
       " '杨树浦路': {'lat': 31.252094, 'lng': 121.517128},\n",
       " '杨高中路': {'lat': 31.227493, 'lng': 121.548752},\n",
       " '杨高北路': {'lat': 31.280115, 'lng': 121.602902},\n",
       " '杨高南路': {'lat': 31.187577, 'lng': 121.525088},\n",
       " '松江体育中心': {'lat': 31.016098, 'lng': 121.230525},\n",
       " '松江南站': {'lat': 30.984983, 'lng': 121.231035},\n",
       " '松江大学城': {'lat': 31.054126, 'lng': 121.232626},\n",
       " '松江新城': {'lat': 31.030266, 'lng': 121.230805},\n",
       " '枫桥路': {'lat': 31.241969, 'lng': 121.411128},\n",
       " '桂林公园': {'lat': 31.167018, 'lng': 121.419812},\n",
       " '桂林路': {'lat': 31.17478, 'lng': 121.418083},\n",
       " '桃浦新村': {'lat': 31.281636, 'lng': 121.349684},\n",
       " '武威路': {'lat': 31.276675, 'lng': 121.364802},\n",
       " '武宁路': {'lat': 31.234289, 'lng': 121.430386},\n",
       " '殷高东路': {'lat': 31.3218, 'lng': 121.506734},\n",
       " '殷高西路': {'lat': 31.320008, 'lng': 121.484909},\n",
       " '民生路': {'lat': 31.235814, 'lng': 121.543338},\n",
       " '民雷路': {'lat': 31.268319, 'lng': 121.668117},\n",
       " '水产路': {'lat': 31.381221, 'lng': 121.488154},\n",
       " '水城路': {'lat': 31.199466, 'lng': 121.392127},\n",
       " '汇臻路': {'lat': 31.025285, 'lng': 121.524478},\n",
       " '汇金路': {'lat': 31.16123, 'lng': 121.15182},\n",
       " '汉中路': {'lat': 31.240783, 'lng': 121.458959},\n",
       " '江宁路': {'lat': 31.244369, 'lng': 121.44498},\n",
       " '江川路': {'lat': 31.005612, 'lng': 121.423395},\n",
       " '江月路': {'lat': 31.084278, 'lng': 121.50852},\n",
       " '江杨北路': {'lat': 31.407818, 'lng': 121.439512},\n",
       " '江浦公园': {'lat': 31.264527, 'lng': 121.523757},\n",
       " '江浦路': {'lat': 31.274988, 'lng': 121.51843},\n",
       " '江湾体育场': {'lat': 31.30293, 'lng': 121.514087},\n",
       " '江湾镇': {'lat': 31.305522, 'lng': 121.485094},\n",
       " '江苏路': {'lat': 31.219879, 'lng': 121.432536},\n",
       " '汶水路': {'lat': 31.292499, 'lng': 121.450253},\n",
       " '沈杜公路': {'lat': 31.061475, 'lng': 121.512282},\n",
       " '泗泾': {'lat': 31.118364, 'lng': 121.260417},\n",
       " '洞泾': {'lat': 31.084516, 'lng': 121.230523},\n",
       " '洲海路': {'lat': 31.312175, 'lng': 121.58933},\n",
       " '浦三路': {'lat': 31.150922, 'lng': 121.539191},\n",
       " '浦东国际机场': {'lat': 31.149956, 'lng': 121.806668},\n",
       " '浦东大道': {'lat': 31.240097, 'lng': 121.519496},\n",
       " '浦江镇': {'lat': 31.096574, 'lng': 121.506269},\n",
       " '浦电路': {'lat': 31.222972, 'lng': 121.531978},\n",
       " '浦航路': {'lat': 31.040761, 'lng': 121.530679},\n",
       " '海伦路': {'lat': 31.259304, 'lng': 121.488807},\n",
       " '海天三路': {'lat': 31.168417, 'lng': 121.796827},\n",
       " '淀山湖大道': {'lat': 31.134366, 'lng': 121.082068},\n",
       " '淞发路': {'lat': 31.345213, 'lng': 121.500179},\n",
       " '淞滨路': {'lat': 31.37081, 'lng': 121.49301},\n",
       " '淞虹路': {'lat': 31.218249, 'lng': 121.359278},\n",
       " '淮海中路': {'lat': 31.220436, 'lng': 121.464387},\n",
       " '港城路': {'lat': 31.35334, 'lng': 121.574734},\n",
       " '源深体育中心': {'lat': 31.232924, 'lng': 121.534394},\n",
       " '滴水湖': {'lat': 30.906968, 'lng': 121.929959},\n",
       " '漕宝路': {'lat': 31.168364, 'lng': 121.433548},\n",
       " '漕河泾开发区': {'lat': 31.170677, 'lng': 121.397875},\n",
       " '漕溪路': {'lat': 31.176763, 'lng': 121.438268},\n",
       " '漕盈路': {'lat': 31.160454, 'lng': 121.096798},\n",
       " '潘广路': {'lat': 31.364197, 'lng': 121.355834},\n",
       " '灵岩南路': {'lat': 31.148936, 'lng': 121.495001},\n",
       " '爱国路': {'lat': 31.279771, 'lng': 121.552679},\n",
       " '环城东路': {'lat': 30.931141, 'lng': 121.463359},\n",
       " '申江路': {'lat': 31.280098, 'lng': 121.62658},\n",
       " '白银路': {'lat': 31.345315, 'lng': 121.245399},\n",
       " '真北路': {'lat': 31.232285, 'lng': 121.382015},\n",
       " '真如': {'lat': 31.250726, 'lng': 121.407287},\n",
       " '石龙路': {'lat': 31.15793, 'lng': 121.44327},\n",
       " '祁华路': {'lat': 31.322198, 'lng': 121.373709},\n",
       " '祁连山南路': {'lat': 31.23752, 'lng': 121.367538},\n",
       " '祁连山路': {'lat': 31.271618, 'lng': 121.376166},\n",
       " '秀沿路': {'lat': 31.138066, 'lng': 121.59819},\n",
       " '紫藤路': {'lat': 31.169713, 'lng': 121.364977},\n",
       " '罗南新村': {'lat': 31.388897, 'lng': 121.357464},\n",
       " '罗山路': {'lat': 31.153143, 'lng': 121.593212},\n",
       " '美兰湖': {'lat': 31.401866, 'lng': 121.350064},\n",
       " '翔殷路': {'lat': 31.30504, 'lng': 121.531976},\n",
       " '耀华路': {'lat': 31.178534, 'lng': 121.494593},\n",
       " '老西门': {'lat': 31.21906, 'lng': 121.483686},\n",
       " '联航路': {'lat': 31.073493, 'lng': 121.510555},\n",
       " '肇嘉浜路': {'lat': 31.199465, 'lng': 121.450231},\n",
       " '自然博物馆': {'lat': 31.236528, 'lng': 121.462357},\n",
       " '航中路': {'lat': 31.165333, 'lng': 121.355438},\n",
       " '航头东': {'lat': 31.055019, 'lng': 121.617443},\n",
       " '航津路': {'lat': 31.335268, 'lng': 121.594082},\n",
       " '芦恒路': {'lat': 31.119006, 'lng': 121.497936},\n",
       " '花木路': {'lat': 31.211305, 'lng': 121.562829},\n",
       " '花桥': {'lat': 31.299009, 'lng': 121.103835},\n",
       " '芳华路': {'lat': 31.193035, 'lng': 121.550148},\n",
       " '芳甸路': {'lat': 31.231824, 'lng': 121.558538},\n",
       " '莘庄': {'lat': 31.111226, 'lng': 121.385377},\n",
       " '莲溪路': {'lat': 31.169089, 'lng': 121.566435},\n",
       " '莲花路': {'lat': 31.130786, 'lng': 121.402825},\n",
       " '萧塘': {'lat': 30.965959, 'lng': 121.441899},\n",
       " '蓝天路': {'lat': 31.240991, 'lng': 121.577913},\n",
       " '蓝村路': {'lat': 31.211822, 'lng': 121.527919},\n",
       " '虹口足球场': {'lat': 31.269841, 'lng': 121.479466},\n",
       " '虹桥1号航站楼': {'lat': 31.191452, 'lng': 121.3474},\n",
       " '虹桥2号航站楼': {'lat': 31.194251, 'lng': 121.326217},\n",
       " '虹桥火车站': {'lat': 31.193926, 'lng': 121.321046},\n",
       " '虹桥路': {'lat': 31.196653, 'lng': 121.422209},\n",
       " '虹梅路': {'lat': 31.160284, 'lng': 121.397161},\n",
       " '虹漕路': {'lat': 31.164036, 'lng': 121.410467},\n",
       " '虹莘路': {'lat': 31.137476, 'lng': 121.380584},\n",
       " '蟠龙路': {'lat': 31.186471, 'lng': 121.278334},\n",
       " '行知路': {'lat': 31.28499, 'lng': 121.421681},\n",
       " '衡山路': {'lat': 31.204983, 'lng': 121.446727},\n",
       " '西渡': {'lat': 30.989403, 'lng': 121.432427},\n",
       " '西藏北路': {'lat': 31.263659, 'lng': 121.469016},\n",
       " '西藏南路': {'lat': 31.201966, 'lng': 121.489509},\n",
       " '诸光路': {'lat': 31.191652, 'lng': 121.293043},\n",
       " '豫园': {'lat': 31.227971, 'lng': 121.487409},\n",
       " '赤峰路': {'lat': 31.281234, 'lng': 121.482461},\n",
       " '赵巷': {'lat': 31.161139, 'lng': 121.192198},\n",
       " '远东大道': {'lat': 31.199401, 'lng': 121.755381},\n",
       " '迪士尼': {'lat': 31.14123, 'lng': 121.66807},\n",
       " '通河新村': {'lat': 31.331144, 'lng': 121.441477},\n",
       " '邮电新村': {'lat': 31.268475, 'lng': 121.494249},\n",
       " '醉白池': {'lat': 31.000991, 'lng': 121.229481},\n",
       " '野生动物园': {'lat': 31.050324, 'lng': 121.699177},\n",
       " '金京路': {'lat': 31.27993, 'lng': 121.615549},\n",
       " '金吉路': {'lat': 31.264249, 'lng': 121.628517},\n",
       " '金平路': {'lat': 31.011275, 'lng': 121.41017},\n",
       " '金桥': {'lat': 31.260884, 'lng': 121.611497},\n",
       " '金桥路': {'lat': 31.257134, 'lng': 121.581914},\n",
       " '金沙江西路': {'lat': 31.241283, 'lng': 121.335198},\n",
       " '金沙江路': {'lat': 31.231194, 'lng': 121.412064},\n",
       " '金海湖': {'lat': 30.928811, 'lng': 121.492559},\n",
       " '金海路': {'lat': 31.263431, 'lng': 121.638787},\n",
       " '金科路': {'lat': 31.204224, 'lng': 121.602062},\n",
       " '金运路': {'lat': 31.240997, 'lng': 121.319539},\n",
       " '铁力路': {'lat': 31.408087, 'lng': 121.461184},\n",
       " '银都路': {'lat': 31.089404, 'lng': 121.390239},\n",
       " '锦江乐园': {'lat': 31.142209, 'lng': 121.413976},\n",
       " '锦绣路': {'lat': 31.18759, 'lng': 121.540079},\n",
       " '镇坪路': {'lat': 31.246807, 'lng': 121.431736},\n",
       " '长寿路': {'lat': 31.240082, 'lng': 121.437954},\n",
       " '长江南路': {'lat': 31.33205, 'lng': 121.491583},\n",
       " '长清路': {'lat': 31.174688, 'lng': 121.486199},\n",
       " '闵瑞路': {'lat': 31.047942, 'lng': 121.530428},\n",
       " '闵行开发区': {'lat': 31.00056, 'lng': 121.369786},\n",
       " '陆家嘴': {'lat': 31.237742, 'lng': 121.502393},\n",
       " '陆家浜路': {'lat': 31.211788, 'lng': 121.486104},\n",
       " '陈春路': {'lat': 31.174768, 'lng': 121.5577},\n",
       " '陕西南路': {'lat': 31.216317, 'lng': 121.459264},\n",
       " '隆德路': {'lat': 31.230442, 'lng': 121.423606},\n",
       " '隆昌路': {'lat': 31.275154, 'lng': 121.544571},\n",
       " '青浦新城': {'lat': 31.158883, 'lng': 121.125731},\n",
       " '静安寺': {'lat': 31.223351, 'lng': 121.446679},\n",
       " '鞍山新村': {'lat': 31.273046, 'lng': 121.509769},\n",
       " '顾唐路': {'lat': 31.266106, 'lng': 121.656525},\n",
       " '顾戴路': {'lat': 31.140916, 'lng': 121.391952},\n",
       " '顾村公园': {'lat': 31.344686, 'lng': 121.372872},\n",
       " '颛桥': {'lat': 31.067183, 'lng': 121.401806},\n",
       " '马当路': {'lat': 31.209542, 'lng': 121.47732},\n",
       " '马陆': {'lat': 31.319653, 'lng': 121.276958},\n",
       " '高科西路': {'lat': 31.185683, 'lng': 121.509801},\n",
       " '高青路': {'lat': 31.159556, 'lng': 121.51575},\n",
       " '鲁班路': {'lat': 31.199104, 'lng': 121.475141},\n",
       " '鹤沙航城': {'lat': 31.077745, 'lng': 121.611471},\n",
       " '黄兴公园': {'lat': 31.295474, 'lng': 121.533355},\n",
       " '黄兴路': {'lat': 31.278779, 'lng': 121.528494},\n",
       " '黄陂南路': {'lat': 31.222789, 'lng': 121.473277},\n",
       " '龙华': {'lat': 31.17486, 'lng': 121.452843},\n",
       " '龙华中路': {'lat': 31.184938, 'lng': 121.456914},\n",
       " '龙柏新村': {'lat': 31.176884, 'lng': 121.370481},\n",
       " '龙溪路': {'lat': 31.194283, 'lng': 121.379875},\n",
       " '龙漕路': {'lat': 31.170361, 'lng': 121.443653},\n",
       " '龙耀路': {'lat': 31.159776, 'lng': 121.459552},\n",
       " '龙阳路': {'lat': 31.202996, 'lng': 121.557357},\n",
       " '（预留车站）': {'lat': 31.247401, 'lng': 121.455716}}"
      ]
     },
     "execution_count": 28,
     "metadata": {},
     "output_type": "execute_result"
    }
   ],
   "source": [
    "coordinates"
   ]
  },
  {
   "cell_type": "code",
   "execution_count": 49,
   "metadata": {
    "collapsed": true
   },
   "outputs": [],
   "source": [
    "def search(start,end):\n",
    "    seen = set([start])\n",
    "    paths = [[start]]\n",
    "    i = 0\n",
    "    while i < 1000:\n",
    "        new_path = []\n",
    "        for path in paths:\n",
    "            curr_p = path[-1]\n",
    "            for st in links[curr_p]:\n",
    "                if st == end:\n",
    "                    return \"->\".join(path + [st])\n",
    "                if st not in seen:\n",
    "                    seen.add(st)\n",
    "                    new_path.append(path + [st])\n",
    "        if len(new_path) == 0:\n",
    "            return \"no links between {0} and {1}\".format(start,end)\n",
    "        paths = new_path\n",
    "        i += 1                  "
   ]
  },
  {
   "cell_type": "code",
   "execution_count": 51,
   "metadata": {},
   "outputs": [
    {
     "data": {
      "text/plain": [
       "'诸光路->虹桥火车站'"
      ]
     },
     "execution_count": 51,
     "metadata": {},
     "output_type": "execute_result"
    }
   ],
   "source": [
    "search(\"诸光路\",\"虹桥火车站\")"
   ]
  },
  {
   "cell_type": "code",
   "execution_count": 69,
   "metadata": {},
   "outputs": [
    {
     "data": {
      "text/plain": [
       "'诸光路->虹桥火车站->虹桥2号航站楼->淞虹路'"
      ]
     },
     "execution_count": 69,
     "metadata": {},
     "output_type": "execute_result"
    }
   ],
   "source": [
    "search(\"诸光路\",\"淞虹路\")"
   ]
  },
  {
   "cell_type": "code",
   "execution_count": null,
   "metadata": {
    "collapsed": true
   },
   "outputs": [],
   "source": []
  },
  {
   "cell_type": "markdown",
   "metadata": {},
   "source": [
    "##### 3. Build the search agent\n",
    "\n",
    "> Build the search agent based on the graph we build.\n",
    "\n",
    "for example, when you run: \n",
    "\n",
    "```python\n",
    ">>> search('奥体中心', '天安门') \n",
    "```\n",
    "you need get the result: \n",
    "\n",
    "奥体中心-> A -> B -> C -> ... -> 天安门\n",
    "\n"
   ]
  },
  {
   "cell_type": "markdown",
   "metadata": {},
   "source": [
    "## （Optional）Create different policies for transfer system.\n"
   ]
  },
  {
   "cell_type": "markdown",
   "metadata": {},
   "source": [
    "以下部门为可选部分，请酌情完成。 并不要求全部同学完成。"
   ]
  },
  {
   "cell_type": "markdown",
   "metadata": {},
   "source": [
    "As much as you can to use the already implemented search agent. You just need to define the **is_goal()**, **get_successor()**, **strategy()** three functions. \n",
    "\n",
    "> a.\tDefine different policies for transfer system. \n",
    "\n",
    "> b.\tSuch as Shortest Path Priority（路程最短优先）, Minimum Transfer Priority(最少换乘优先), Comprehensive Priority(综合优先)\n",
    "\n",
    "> c.\tImplement Continuous transfer. Based on the Agent you implemented, please add this feature: Besides the @param start and @param destination two stations, add some more stations, we called @param by_way, it means, our path should from the start and end, but also include the  @param by_way stations. \n",
    "\n",
    "e.g \n",
    "```\n",
    "1. Input:  start=A,  destination=B, by_way=[C] \n",
    "    Output: [A, … .., C, …. B]\n",
    "2. Input: start=A, destination=B, by_way=[C, D, E]\n",
    "    Output: [A … C … E … D … B]  \n",
    "    # based on your policy, the E station could be reached firstly. \n",
    "![image.png](attachment:image.png)\n",
    "```"
   ]
  },
  {
   "cell_type": "code",
   "execution_count": 59,
   "metadata": {
    "collapsed": true
   },
   "outputs": [],
   "source": [
    "import math\n",
    "\n",
    "def geo_distance(origin, destination):\n",
    "    \"\"\"\n",
    "    Calculate the Haversine distance.\n",
    "\n",
    "    Parameters\n",
    "    ----------\n",
    "    origin : tuple of float\n",
    "        (lat, long)\n",
    "    destination : tuple of float\n",
    "        (lat, long)\n",
    "\n",
    "    Returns\n",
    "    -------\n",
    "    distance_in_km : float\n",
    "\n",
    "    Examples\n",
    "    --------\n",
    "    >>> origin = (48.1372, 11.5756)  # Munich\n",
    "    >>> destination = (52.5186, 13.4083)  # Berlin\n",
    "    >>> round(distance(origin, destination), 1)\n",
    "    504.2\n",
    "    \"\"\"\n",
    "    lat1, lon1 = origin\n",
    "    lat2, lon2 = destination\n",
    "    radius = 6371  # km\n",
    "\n",
    "    dlat = math.radians(lat2 - lat1)\n",
    "    dlon = math.radians(lon2 - lon1)\n",
    "    a = (math.sin(dlat / 2) * math.sin(dlat / 2) +\n",
    "         math.cos(math.radians(lat1)) * math.cos(math.radians(lat2)) *\n",
    "         math.sin(dlon / 2) * math.sin(dlon / 2))\n",
    "    c = 2 * math.atan2(math.sqrt(a), math.sqrt(1 - a))\n",
    "    d = radius * c\n",
    "\n",
    "    return d\n",
    "\n",
    "def get_geo_distance(stat1, stat2):\n",
    "    return geo_distance((coordinates[stat1][\"lat\"],coordinates[stat1][\"lng\"]), (coordinates[stat2][\"lat\"],coordinates[stat2][\"lng\"]))"
   ]
  },
  {
   "cell_type": "code",
   "execution_count": 68,
   "metadata": {},
   "outputs": [
    {
     "data": {
      "text/plain": [
       "6.959113984183542"
      ]
     },
     "execution_count": 68,
     "metadata": {},
     "output_type": "execute_result"
    }
   ],
   "source": [
    "get_geo_distance(\"诸光路\",\"淞虹路\")"
   ]
  },
  {
   "cell_type": "markdown",
   "metadata": {},
   "source": [
    "路程最短"
   ]
  },
  {
   "cell_type": "code",
   "execution_count": 88,
   "metadata": {
    "collapsed": true
   },
   "outputs": [],
   "source": [
    "def shortest_search(start,end):\n",
    "    paths = [[start]]\n",
    "    length = {start:0}\n",
    "    while True:\n",
    "        min_dis = None\n",
    "        min_dis_path = []\n",
    "        for path in paths:\n",
    "            curr_stats = path[-1]\n",
    "            for stat in links[curr_stats]:\n",
    "                if stat in length: continue\n",
    "                curr_short_len = length[curr_stats] + get_geo_distance(curr_stats,stat)\n",
    "                if min_dis == None:\n",
    "                    min_dis = curr_short_len\n",
    "                    min_dis_path = path + [stat]\n",
    "                if curr_short_len <= min_dis:\n",
    "                    min_dis = curr_short_len\n",
    "                    min_dis_path = path + [stat]\n",
    "        \n",
    "        if len(min_dis_path) == 0:\n",
    "            return \"no links between {0} and {1}\".format(start,end)\n",
    "        if min_dis_path[-1] == end:\n",
    "            return \"->\".join(min_dis_path)\n",
    "        paths.append(min_dis_path)\n",
    "        length[min_dis_path[-1]] = min_dis"
   ]
  },
  {
   "cell_type": "code",
   "execution_count": 93,
   "metadata": {},
   "outputs": [
    {
     "data": {
      "text/plain": [
       "'诸光路->虹桥火车站->虹桥2号航站楼->淞虹路->北新泾->威宁路->娄山关路->中山公园->江苏路->静安寺->南京西路->人民广场'"
      ]
     },
     "execution_count": 93,
     "metadata": {},
     "output_type": "execute_result"
    }
   ],
   "source": [
    "shortest_search(\"诸光路\",\"人民广场\")"
   ]
  },
  {
   "cell_type": "markdown",
   "metadata": {},
   "source": [
    "换乘最少"
   ]
  },
  {
   "cell_type": "code",
   "execution_count": 103,
   "metadata": {
    "collapsed": true
   },
   "outputs": [],
   "source": [
    "# 获得站点对应线路名称\n",
    "def update_links_line_names(line_name,line,links,is_loop=False):\n",
    "    if is_loop:\n",
    "        line = line + [line[0]]\n",
    "    for indx in range(len(line)):\n",
    "        if indx - 1 >= 0:\n",
    "            if line[indx-1] not in links[line[indx]]:\n",
    "                links[line[indx]][line[indx-1]] = []\n",
    "            links[line[indx]][line[indx-1]].append(line_name)\n",
    "        if indx + 1 < len(line):\n",
    "            if line[indx+1] not in links[line[indx]]:\n",
    "                links[line[indx]][line[indx+1]] = []\n",
    "            links[line[indx]][line[indx+1]].append(line_name)\n",
    "    return \n",
    "            \n",
    "\n",
    "def generate_links_line_names(lines):\n",
    "    links = defaultdict(dict)\n",
    "    for line_name,line in lines.items():\n",
    "        if line_name == \"4号线\":\n",
    "            update_links_line_names(line_name,line,links,is_loop=True)\n",
    "        else:\n",
    "            update_links_line_names(line_name,line,links)\n",
    "    return links"
   ]
  },
  {
   "cell_type": "code",
   "execution_count": 104,
   "metadata": {
    "collapsed": true
   },
   "outputs": [],
   "source": [
    "links_line_names = generate_links_line_names(lines)"
   ]
  },
  {
   "cell_type": "code",
   "execution_count": 105,
   "metadata": {},
   "outputs": [
    {
     "data": {
      "text/plain": [
       "{'南京东路': ['2号线'],\n",
       " '南京西路': ['2号线'],\n",
       " '大世界': ['8号线'],\n",
       " '新闸路': ['1号线'],\n",
       " '曲阜路': ['8号线'],\n",
       " '黄陂南路': ['1号线']}"
      ]
     },
     "execution_count": 105,
     "metadata": {},
     "output_type": "execute_result"
    }
   ],
   "source": [
    "links_line_names[\"人民广场\"]"
   ]
  },
  {
   "cell_type": "code",
   "execution_count": 106,
   "metadata": {},
   "outputs": [
    {
     "data": {
      "text/plain": [
       "{'中潭路': ['3号线', '4号线'], '岚皋路': ['7号线'], '曹杨路': ['3号线', '4号线'], '长寿路': ['7号线']}"
      ]
     },
     "execution_count": 106,
     "metadata": {},
     "output_type": "execute_result"
    }
   ],
   "source": [
    "links_line_names[\"镇坪路\"]"
   ]
  },
  {
   "cell_type": "code",
   "execution_count": 148,
   "metadata": {},
   "outputs": [],
   "source": [
    "\n",
    "def is_visited(stat,path):\n",
    "    for st,line_name in path:\n",
    "        if st == stat:\n",
    "            return True\n",
    "    return False\n",
    "\n",
    "def transfer_smallest_search(start,end):\n",
    "    \"\"\"\n",
    "    paths数据结构为[(path,transfer_num)]\n",
    "    path数据结构为[(stations,line_name)]\n",
    "    \"\"\"\n",
    "    paths = []\n",
    "    for stat in links_line_names[start]:\n",
    "        for line_name in links_line_names[start][stat]:\n",
    "            if stat == end:\n",
    "                return start + \":\" + line_name + \"->\" + end + \":\" + line_name\n",
    "            paths.append(([(stat,line_name)],0))\n",
    "    \n",
    "    curr_transfer_sma = None\n",
    "    i = 0\n",
    "    while paths and i < 100:\n",
    "        new_paths = []\n",
    "        for path,transfer_num in paths:\n",
    "            if curr_transfer_sma != None and transfer_num >= curr_transfer_sma:\n",
    "                continue\n",
    "            curr_s, curr_line_name = path[-1]\n",
    "            for stat in links_line_names[curr_s]:\n",
    "                if is_visited(stat,path): continue\n",
    "                if curr_line_name in links_line_names[curr_s][stat]:\n",
    "                    if stat == end:\n",
    "                        if curr_transfer_sma == None:\n",
    "                            curr_transfer_sma = transfer_num\n",
    "                            res = (path + [(stat,curr_line_name)],transfer_num)\n",
    "                        if transfer_num <= curr_transfer_sma:\n",
    "                            curr_transfer_sma = transfer_num\n",
    "                            res = (path + [(stat,curr_line_name)],transfer_num)\n",
    "                    else:\n",
    "                        new_paths.append((path + [(stat,curr_line_name)],transfer_num))\n",
    "                    continue\n",
    "                for line_nm in links_line_names[curr_s][stat]:\n",
    "                    if stat == end:\n",
    "                        if curr_transfer_sma == None:\n",
    "                            curr_transfer_sma = transfer_num + 1\n",
    "                            res = (path + [(stat,curr_line_name)],transfer_num+1)\n",
    "                        if transfer_num + 1 <= curr_transfer_sma:\n",
    "                            curr_transfer_sma = transfer_num + 1\n",
    "                            res = (path + [(stat,curr_line_name)],transfer_num+1)\n",
    "                    else:\n",
    "                        new_paths.append((path + [(stat,line_nm)],transfer_num + 1))\n",
    "        paths = new_paths\n",
    "        i += 1\n",
    "    if res:\n",
    "        path = res[0]\n",
    "        return \"->\".join([start+\":\"+path[0][1]]+[stat+\":\"+line_nm for stat,line_nm in path])\n",
    "    return \"no links between {0} and {1}\".format(start,end)                    "
   ]
  },
  {
   "cell_type": "code",
   "execution_count": 149,
   "metadata": {},
   "outputs": [
    {
     "data": {
      "text/plain": [
       "'莘庄:1号线->外环路:1号线->莲花路:1号线->锦江乐园:1号线->上海南站:1号线->漕宝路:1号线->上海体育馆:1号线->徐家汇:1号线->衡山路:1号线->常熟路:1号线->陕西南路:1号线->黄陂南路:1号线->人民广场:1号线->新闸路:1号线->汉中路:1号线->上海火车站:1号线'"
      ]
     },
     "execution_count": 149,
     "metadata": {},
     "output_type": "execute_result"
    }
   ],
   "source": [
    "transfer_smallest_search(\"莘庄\",\"上海火车站\")"
   ]
  },
  {
   "cell_type": "code",
   "execution_count": 151,
   "metadata": {},
   "outputs": [
    {
     "data": {
      "text/plain": [
       "'延安西路:4号线->虹桥路:4号线->宜山路:4号线->上海体育馆:4号线->上海体育场:4号线->东安路:4号线->大木桥路:4号线->鲁班路:4号线->西藏南路:4号线->南浦大桥:4号线->塘桥:4号线->蓝村路:4号线->浦电路:4号线->世纪大道:4号线'"
      ]
     },
     "execution_count": 151,
     "metadata": {},
     "output_type": "execute_result"
    }
   ],
   "source": [
    "transfer_smallest_search(\"延安西路\",\"世纪大道\")"
   ]
  },
  {
   "cell_type": "code",
   "execution_count": 161,
   "metadata": {},
   "outputs": [
    {
     "data": {
      "text/plain": [
       "'常熟路:1号线->陕西南路:1号线->黄陂南路:1号线->人民广场:1号线->新闸路:1号线->汉中路:1号线'"
      ]
     },
     "execution_count": 161,
     "metadata": {},
     "output_type": "execute_result"
    }
   ],
   "source": [
    "transfer_smallest_search(\"常熟路\",\"汉中路\")"
   ]
  },
  {
   "cell_type": "code",
   "execution_count": 162,
   "metadata": {},
   "outputs": [
    {
     "data": {
      "text/plain": [
       "'常熟路->陕西南路->南京西路->汉中路'"
      ]
     },
     "execution_count": 162,
     "metadata": {},
     "output_type": "execute_result"
    }
   ],
   "source": [
    "shortest_search(\"常熟路\",\"汉中路\")"
   ]
  },
  {
   "cell_type": "code",
   "execution_count": 152,
   "metadata": {},
   "outputs": [
    {
     "data": {
      "text/plain": [
       "'延安西路->中山公园->江苏路->静安寺->南京西路->人民广场->南京东路->陆家嘴->东昌路->世纪大道'"
      ]
     },
     "execution_count": 152,
     "metadata": {},
     "output_type": "execute_result"
    }
   ],
   "source": [
    "shortest_search(\"延安西路\",\"世纪大道\")"
   ]
  },
  {
   "cell_type": "code",
   "execution_count": 154,
   "metadata": {},
   "outputs": [
    {
     "data": {
      "text/plain": [
       "'延安西路->中山公园->江苏路->静安寺->南京西路->人民广场->南京东路->陆家嘴->东昌路->世纪大道'"
      ]
     },
     "execution_count": 154,
     "metadata": {},
     "output_type": "execute_result"
    }
   ],
   "source": [
    "search(\"延安西路\",\"世纪大道\")"
   ]
  },
  {
   "cell_type": "markdown",
   "metadata": {},
   "source": [
    "综合优先有些难啊，需要定个综合指标才能做"
   ]
  },
  {
   "cell_type": "markdown",
   "metadata": {},
   "source": [
    "Continuous transfer貌似要遍历搜索空间啊，复杂度太高了"
   ]
  },
  {
   "cell_type": "markdown",
   "metadata": {},
   "source": [
    "##### 5.\tTest your result with commercial applications. \n",
    "\n",
    "将你的结果和高德地图或者百度地图进行比较，如果有不同，请分析原因\n"
   ]
  },
  {
   "cell_type": "markdown",
   "metadata": {},
   "source": [
    "恭喜，完成本次课程，你对常用的人工智能方法以及有一定的了解了。基于规则的，基于概率模型的，基于搜索的，基于机器学习的。 可以说，我们现在通常见到的方法都能够归属到这几类方法中。 这就是**人工智能**，并没有很难是吧？ 继续加油！"
   ]
  },
  {
   "cell_type": "markdown",
   "metadata": {},
   "source": [
    "![](https://timgsa.baidu.com/timg?image&quality=80&size=b9999_10000&sec=1562415163815&di=4b29a2a863a8285212033760f288ed7a&imgtype=0&src=http%3A%2F%2F5b0988e595225.cdn.sohucs.com%2Fimages%2F20180710%2F8704194a1d7f46a383ddc29d40c9bca5.jpeg)"
   ]
  }
 ],
 "metadata": {
  "kernelspec": {
   "display_name": "Python 3",
   "language": "python",
   "name": "python3"
  },
  "language_info": {
   "codemirror_mode": {
    "name": "ipython",
    "version": 3
   },
   "file_extension": ".py",
   "mimetype": "text/x-python",
   "name": "python",
   "nbconvert_exporter": "python",
   "pygments_lexer": "ipython3",
   "version": "3.6.3"
  }
 },
 "nbformat": 4,
 "nbformat_minor": 2
}
